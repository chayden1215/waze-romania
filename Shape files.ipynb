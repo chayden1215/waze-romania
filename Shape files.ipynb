{
 "cells": [
  {
   "cell_type": "code",
   "execution_count": 7,
   "id": "1620c3c2",
   "metadata": {},
   "outputs": [],
   "source": [
    "import geopandas as gpd\n",
    "import pandas as pd\n",
    "import numpy as np\n",
    "from shapely import wkt\n",
    "from shapely.ops import nearest_points\n",
    "import dask.dataframe as dd\n",
    "import geopandas as gpd\n",
    "import h3\n",
    "import pandas as pd\n",
    "from shapely import wkt\n",
    "import pytz"
   ]
  },
  {
   "cell_type": "code",
   "execution_count": 8,
   "id": "0634de45",
   "metadata": {},
   "outputs": [
    {
     "name": "stdout",
     "output_type": "stream",
     "text": [
      "CPU times: total: 93.8 ms\n",
      "Wall time: 71.9 ms\n"
     ]
    }
   ],
   "source": [
    "%%time\n",
    "schools = gpd.read_file(\"Schools_ClujNapoca.shp\")\n",
    "hospitals = gpd.read_file(\"Hospitals_ClujNapoca.shp\")"
   ]
  },
  {
   "cell_type": "code",
   "execution_count": 9,
   "id": "ccc135fd",
   "metadata": {},
   "outputs": [
    {
     "name": "stdout",
     "output_type": "stream",
     "text": [
      "CPU times: total: 1min\n",
      "Wall time: 1min 2s\n"
     ]
    }
   ],
   "source": [
    "%%time\n",
    "output = \"streetcsvs\"\n",
    "\n",
    "roads = gpd.read_file(\"RoadNetwork_ClujNapoca.shp\")\n",
    "schools = gpd.read_file(\"Schools_ClujNapoca.shp\")\n",
    "hospitals = gpd.read_file(\"Hospitals_ClujNapoca.shp\")\n",
    "gdf =  gpd.read_file('geo.csv')\n",
    "#roads = roads[['NAME', 'COUNTY', 'Length', 'geometry']]\n",
    "roads = roads.rename(columns = {'NAME': 'streetname'})"
   ]
  },
  {
   "cell_type": "code",
   "execution_count": 11,
   "id": "7e737820",
   "metadata": {},
   "outputs": [
    {
     "name": "stdout",
     "output_type": "stream",
     "text": [
      "CPU times: total: 3.05 s\n",
      "Wall time: 3.1 s\n"
     ]
    }
   ],
   "source": [
    "%%time\n",
    "\n",
    "# add desired path for data storage here\n",
    "\n",
    "# read data into Dask\n",
    "PATH = \"RO_9clujnapoca_alerts.000000000000.csv.gz\"\n",
    "ddf = dd.read_csv(\n",
    "        PATH,\n",
    "        compression=\"gzip\", \n",
    "        blocksize=None, \n",
    "        dtype={\n",
    "            'confidence': 'int8',\n",
    "            'type': 'category',\n",
    "            'subtype': 'category',\n",
    "            'roadType': 'float32', # to accept NA values\n",
    "            'reliability': 'int8',\n",
    "            'magvar': 'int16',\n",
    "            'street': 'object'\n",
    "        },\n",
    ")\n",
    "df = ddf.compute()"
   ]
  },
  {
   "cell_type": "code",
   "execution_count": null,
   "id": "dc9a9cb5",
   "metadata": {},
   "outputs": [],
   "source": [
    "schools"
   ]
  },
  {
   "cell_type": "code",
   "execution_count": null,
   "id": "fde28768",
   "metadata": {},
   "outputs": [],
   "source": [
    "merge = gdf.sjoin_nearest(roads, gdf, 'right')"
   ]
  },
  {
   "cell_type": "code",
   "execution_count": 12,
   "id": "19499b8f",
   "metadata": {},
   "outputs": [],
   "source": [
    " #where on your system do you want clean.csv?\n",
    "output_path = \"schools.csv\"\n",
    "\n",
    "df = pd.DataFrame(schools)\n",
    "gdf = gpd.GeoDataFrame(df, geometry='geometry')\n",
    "df['lon'] = gdf.geometry.x\n",
    "df['lat'] = gdf.geometry.y\n",
    "\n",
    "for i in [6,7,8,9,10]:\n",
    "    df[\"h\" + str(i)] = df.apply(lambda x: h3.geo_to_h3(x[\"lat\"], x[\"lon\"], i), axis=1)\n",
    "df.to_csv(output_path, index=False)\n"
   ]
  },
  {
   "cell_type": "code",
   "execution_count": null,
   "id": "61a1ab8f",
   "metadata": {},
   "outputs": [],
   "source": [
    "schools"
   ]
  },
  {
   "cell_type": "code",
   "execution_count": null,
   "id": "b73eff0d-0f5c-41f3-a95f-06060b8c99b2",
   "metadata": {},
   "outputs": [],
   "source": []
  }
 ],
 "metadata": {
  "kernelspec": {
   "display_name": "geo_env",
   "language": "python",
   "name": "geo_env"
  },
  "language_info": {
   "codemirror_mode": {
    "name": "ipython",
    "version": 3
   },
   "file_extension": ".py",
   "mimetype": "text/x-python",
   "name": "python",
   "nbconvert_exporter": "python",
   "pygments_lexer": "ipython3",
   "version": "3.10.4"
  }
 },
 "nbformat": 4,
 "nbformat_minor": 5
}

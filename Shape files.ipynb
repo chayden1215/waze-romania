{
 "cells": [
  {
   "cell_type": "code",
   "execution_count": 8,
   "id": "1620c3c2",
   "metadata": {},
   "outputs": [],
   "source": [
    "import geopandas as gpd\n",
    "import pandas as pd\n",
    "import numpy as np\n",
    "from shapely import wkt\n",
    "from shapely.ops import nearest_points\n",
    "import dask.dataframe as dd\n",
    "import geopandas as gpd\n",
    "import h3\n",
    "import pandas as pd\n",
    "from shapely import wkt\n",
    "import pytz\n",
    "import os"
   ]
  },
  {
   "cell_type": "code",
   "execution_count": 19,
   "id": "0634de45",
   "metadata": {},
   "outputs": [
    {
     "name": "stdout",
     "output_type": "stream",
     "text": [
      "CPU times: user 35.4 ms, sys: 6.36 ms, total: 41.8 ms\n",
      "Wall time: 58.2 ms\n"
     ]
    }
   ],
   "source": [
    "data_path ='Cluj_geospatial data/' # path with all geospatial data\n",
    "schools = gpd.read_file(data_path + \"Schools_ClujNapoca.shp\")\n",
    "hospitals = gpd.read_file(data_path + \"Hospitals_ClujNapoca.shp\")\n",
    "\n",
    "\n",
    "data = {'schools': schools, 'hospitals': hospitals}\n",
    "location = \"/Users/catherinehayden/WB/cluj/\" \n",
    "\n",
    "for name in data: \n",
    "    output_path = location + name + \".csv\"\n",
    "\n",
    "    df = pd.DataFrame(data[name])\n",
    "    gdf = gpd.GeoDataFrame(data[name], geometry='geometry')\n",
    "    df['lon'] = gdf.geometry.x\n",
    "    df['lat'] = gdf.geometry.y\n",
    "\n",
    "    for i in [6,7,8,9,10]:\n",
    "        df[\"h\" + str(i)] = df.apply(lambda x: h3.geo_to_h3(x[\"lat\"], x[\"lon\"], i), axis=1)\n",
    "    df.to_csv(output_path, index=False)\n"
   ]
  }
 ],
 "metadata": {
  "kernelspec": {
   "display_name": "Python 3",
   "language": "python",
   "name": "python3"
  },
  "language_info": {
   "codemirror_mode": {
    "name": "ipython",
    "version": 3
   },
   "file_extension": ".py",
   "mimetype": "text/x-python",
   "name": "python",
   "nbconvert_exporter": "python",
   "pygments_lexer": "ipython3",
   "version": "3.8.8"
  }
 },
 "nbformat": 4,
 "nbformat_minor": 5
}

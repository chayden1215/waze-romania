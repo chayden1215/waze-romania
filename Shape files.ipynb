{
 "cells": [
  {
   "cell_type": "code",
   "execution_count": 10,
   "id": "1620c3c2",
   "metadata": {},
   "outputs": [],
   "source": [
    "import geopandas as gpd\n",
    "import pandas as pd\n",
    "import numpy as np\n",
    "from shapely import wkt\n",
    "from shapely.ops import nearest_points\n",
    "import dask.dataframe as dd\n",
    "import geopandas as gpd\n",
    "import h3\n",
    "import pandas as pd\n",
    "from shapely import wkt\n",
    "import pytz"
   ]
  },
  {
   "cell_type": "code",
   "execution_count": 26,
   "id": "0634de45",
   "metadata": {},
   "outputs": [
    {
     "name": "stdout",
     "output_type": "stream",
     "text": [
      "CPU times: user 40.5 ms, sys: 4.61 ms, total: 45.2 ms\n",
      "Wall time: 51.3 ms\n"
     ]
    }
   ],
   "source": [
    "%%time\n",
    "schools = gpd.read_file(\"/Users/catherinehayden/WB/cluj/Cluj_geospatial data/Schools_ClujNapoca.shp\")\n",
    "hospitals = gpd.read_file(\"/Users/catherinehayden/WB/cluj/Cluj_geospatial data/Hospitals_ClujNapoca.shp\")"
   ]
  },
  {
   "cell_type": "code",
   "execution_count": 27,
   "id": "ccc135fd",
   "metadata": {},
   "outputs": [
    {
     "name": "stdout",
     "output_type": "stream",
     "text": [
      "CPU times: user 22 s, sys: 1.02 s, total: 23 s\n",
      "Wall time: 23.3 s\n"
     ]
    }
   ],
   "source": [
    "%%time\n",
    "output = \"/Users/catherinehayden/WB/cluj/streetcsvs\"\n",
    "\n",
    "roads = gpd.read_file(\"/Users/catherinehayden/WB/cluj/Cluj_geospatial data/RoadNetwork_ClujNapoca.shp\")\n",
    "schools = gpd.read_file(\"/Users/catherinehayden/WB/cluj/Cluj_geospatial data/Schools_ClujNapoca.shp\")\n",
    "hospitals = gpd.read_file(\"/Users/catherinehayden/WB/cluj/Cluj_geospatial data/Hospitals_ClujNapoca.shp\")\n",
    "gdf =  gpd.read_file('geo.csv')\n",
    "#roads = roads[['NAME', 'COUNTY', 'Length', 'geometry']]\n",
    "roads = roads.rename(columns = {'NAME': 'streetname'})"
   ]
  },
  {
   "cell_type": "code",
   "execution_count": 29,
   "id": "7e737820",
   "metadata": {},
   "outputs": [
    {
     "name": "stdout",
     "output_type": "stream",
     "text": [
      "CPU times: user 22.5 ms, sys: 24.5 ms, total: 47.1 ms\n",
      "Wall time: 79 ms\n"
     ]
    }
   ],
   "source": [
    "%%time\n",
    "\n",
    "# add desired path for data storage here\n",
    "location =  \"/Users/catherinehayden/WB/cluj\" #where on your system do you want clean.csv?\n",
    "output_path = location + \"/clean.csv\"\n",
    "\n",
    "# read data into Dask\n",
    "PATH = \"RO_9clujnapoca_alerts.000000000000.csv.gz\"\n",
    "ddf = dd.read_csv(\n",
    "        PATH, \n",
    "        compression=\"gzip\", \n",
    "        blocksize=None, \n",
    "        dtype={\n",
    "            'confidence': 'int8',\n",
    "            'type': 'category',\n",
    "            'subtype': 'category',\n",
    "            'roadType': 'float32', # to accept NA values\n",
    "            'reliability': 'int8',\n",
    "            'magvar': 'int16',\n",
    "            'street': 'object'\n",
    "        },\n",
    ")"
   ]
  },
  {
   "cell_type": "code",
   "execution_count": 34,
   "id": "19499b8f",
   "metadata": {},
   "outputs": [],
   "source": [
    "data = {'schools': schools, 'hospitals': hospitals}\n",
    "location = \"/Users/catherinehayden/WB/cluj/\" #where on your system do you want clean.csv?\n",
    "\n",
    "for name in data: \n",
    "    output_path = location + name + \".csv\"\n",
    "\n",
    "    df = pd.DataFrame(data[name])\n",
    "    gdf = gpd.GeoDataFrame(data[name], geometry='geometry')\n",
    "    df['lon'] = gdf.geometry.x\n",
    "    df['lat'] = gdf.geometry.y\n",
    "\n",
    "    for i in [6,7,8,9,10]:\n",
    "        df[\"h\" + str(i)] = df.apply(lambda x: h3.geo_to_h3(x[\"lat\"], x[\"lon\"], i), axis=1)\n",
    "    df.to_csv(output_path, index=False)\n"
   ]
  }
 ],
 "metadata": {
  "kernelspec": {
   "display_name": "Python 3",
   "language": "python",
   "name": "python3"
  },
  "language_info": {
   "codemirror_mode": {
    "name": "ipython",
    "version": 3
   },
   "file_extension": ".py",
   "mimetype": "text/x-python",
   "name": "python",
   "nbconvert_exporter": "python",
   "pygments_lexer": "ipython3",
   "version": "3.8.8"
  }
 },
 "nbformat": 4,
 "nbformat_minor": 5
}

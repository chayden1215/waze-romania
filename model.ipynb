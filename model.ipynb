{
 "cells": [
  {
   "cell_type": "markdown",
   "id": "ee8b7bca",
   "metadata": {},
   "source": [
    "# Model"
   ]
  },
  {
   "cell_type": "code",
   "execution_count": 6,
   "id": "57477bf5",
   "metadata": {},
   "outputs": [],
   "source": [
    "import dask.dataframe as dd\n",
    "import pandas as pd\n",
    "import numpy as np\n",
    "import geopandas as gpd\n",
    "import h3\n",
    "from shapely import wkt\n",
    "from sklearn.linear_model import LinearRegression\n",
    "import seaborn as sns\n",
    "import statsmodels.formula.api as smf"
   ]
  },
  {
   "cell_type": "markdown",
   "id": "6e7877c5",
   "metadata": {},
   "source": [
    "## Creating our panel "
   ]
  },
  {
   "cell_type": "code",
   "execution_count": 85,
   "id": "77ac1126",
   "metadata": {},
   "outputs": [],
   "source": [
    "waze = pd.read_csv('clean.csv')\n",
    "waze.drop(columns=['confidence', 'nThumbsUp', 'country'])\n",
    "waze['date']= pd.to_datetime(waze['date'])\n",
    "\n",
    "schools = pd.read_csv('schools.csv')\n",
    "weather = pd.read_csv('RainLevels.csv')[['Date', 'Precipitation']]\n",
    "weather.columns = ['date', 'precip']\n",
    "weather['date']= pd.to_datetime(weather['date'])\n",
    "\n",
    "covid = pd.read_csv('stringency.csv')\n",
    "covid = covid[['date', 'stringency_index']]\n",
    "covid = covid[covid.date<='2022-01-01']  # stringency index is at daily level, only look when we have waze data\n",
    "covid['date']= pd.to_datetime(covid['date'])"
   ]
  },
  {
   "cell_type": "markdown",
   "id": "0c7a218f",
   "metadata": {},
   "source": [
    "### Merging the Data\n",
    "Caveat: we need to think about how the different hexagon resolutions are impacting this merge. Are there any potential issues being introduced?"
   ]
  },
  {
   "cell_type": "code",
   "execution_count": 104,
   "id": "8aa567f6",
   "metadata": {},
   "outputs": [
    {
     "name": "stdout",
     "output_type": "stream",
     "text": [
      "The final dataframes will look like...\n"
     ]
    },
    {
     "data": {
      "text/html": [
       "<div>\n",
       "<style scoped>\n",
       "    .dataframe tbody tr th:only-of-type {\n",
       "        vertical-align: middle;\n",
       "    }\n",
       "\n",
       "    .dataframe tbody tr th {\n",
       "        vertical-align: top;\n",
       "    }\n",
       "\n",
       "    .dataframe thead th {\n",
       "        text-align: right;\n",
       "    }\n",
       "</style>\n",
       "<table border=\"1\" class=\"dataframe\">\n",
       "  <thead>\n",
       "    <tr style=\"text-align: right;\">\n",
       "      <th></th>\n",
       "      <th>date</th>\n",
       "      <th>h6</th>\n",
       "      <th>stringency_index</th>\n",
       "      <th>precip</th>\n",
       "      <th>uuid</th>\n",
       "      <th>Denumire_P</th>\n",
       "    </tr>\n",
       "  </thead>\n",
       "  <tbody>\n",
       "    <tr>\n",
       "      <th>0</th>\n",
       "      <td>2020-02-26</td>\n",
       "      <td>861e0b217ffffff</td>\n",
       "      <td>16.67</td>\n",
       "      <td>5</td>\n",
       "      <td>6</td>\n",
       "      <td>0</td>\n",
       "    </tr>\n",
       "    <tr>\n",
       "      <th>1</th>\n",
       "      <td>2020-02-26</td>\n",
       "      <td>861e0b237ffffff</td>\n",
       "      <td>16.67</td>\n",
       "      <td>5</td>\n",
       "      <td>21</td>\n",
       "      <td>0</td>\n",
       "    </tr>\n",
       "    <tr>\n",
       "      <th>2</th>\n",
       "      <td>2020-02-26</td>\n",
       "      <td>861e0b2a7ffffff</td>\n",
       "      <td>16.67</td>\n",
       "      <td>5</td>\n",
       "      <td>5</td>\n",
       "      <td>0</td>\n",
       "    </tr>\n",
       "    <tr>\n",
       "      <th>3</th>\n",
       "      <td>2020-02-26</td>\n",
       "      <td>861e0b387ffffff</td>\n",
       "      <td>16.67</td>\n",
       "      <td>5</td>\n",
       "      <td>282</td>\n",
       "      <td>24</td>\n",
       "    </tr>\n",
       "    <tr>\n",
       "      <th>4</th>\n",
       "      <td>2020-02-26</td>\n",
       "      <td>861e0b38fffffff</td>\n",
       "      <td>16.67</td>\n",
       "      <td>5</td>\n",
       "      <td>187</td>\n",
       "      <td>14</td>\n",
       "    </tr>\n",
       "  </tbody>\n",
       "</table>\n",
       "</div>"
      ],
      "text/plain": [
       "        date               h6  stringency_index  precip  uuid  Denumire_P\n",
       "0 2020-02-26  861e0b217ffffff             16.67       5     6           0\n",
       "1 2020-02-26  861e0b237ffffff             16.67       5    21           0\n",
       "2 2020-02-26  861e0b2a7ffffff             16.67       5     5           0\n",
       "3 2020-02-26  861e0b387ffffff             16.67       5   282          24\n",
       "4 2020-02-26  861e0b38fffffff             16.67       5   187          14"
      ]
     },
     "execution_count": 104,
     "metadata": {},
     "output_type": "execute_result"
    }
   ],
   "source": [
    "df = waze.merge(covid,how='left', on='date')\n",
    "df = df.merge(weather, how='left', on='date')\n",
    "\n",
    "df = df.merge(schools, how='left', on=['h6', 'h7', 'h8', 'h9', 'h10'])\n",
    "print('The final dataframes will look like...')\n",
    "df.groupby(['date', 'h6', 'stringency_index', 'precip'],as_index=False)[['uuid', 'Denumire_P']].count().head()"
   ]
  },
  {
   "cell_type": "code",
   "execution_count": 105,
   "id": "01b39f3d",
   "metadata": {},
   "outputs": [],
   "source": [
    "dfs = []\n",
    "resolutions = [6,7,8,9,10]\n",
    "res = dict(zip(np.arange(len(resolutions)),resolutions)) # create dictionary of resolutions\n",
    "\n",
    "for i in res:\n",
    "    dfs.append(df.groupby(['date', 'h' + str(res[i]), 'stringency_index', 'precip'],as_index=False)[['uuid', 'Denumire_P']].count()) \n",
    "#df = df.groupby(['date', 'h3'],as_index=False)['uuid'].count()\n",
    "\n",
    "\n",
    "# save csv's with different resolutions to disk\n",
    "outputpath = '/Users/catherinehayden/WB/cluj'\n",
    "for i in res:\n",
    "    dfs[i].to_csv(outputpath + '/modellingR' + str(res[i]) + '.csv', index = False)\n"
   ]
  },
  {
   "cell_type": "markdown",
   "id": "5249d12e",
   "metadata": {},
   "source": [
    "next steps: \n",
    " - calculate distance from each hexagon to the points of interest?\n",
    " - control for weather\n",
    " - control for weekend/weekday"
   ]
  },
  {
   "cell_type": "markdown",
   "id": "c6e9d723",
   "metadata": {},
   "source": [
    "## How do alerts change with the number of schools near and stringency index at the hexagon-day level? \n",
    "For variying hexagon resolutions: 6-10\n",
    "(As hexagon resolution increases, the area it covers decreases)  \n",
    "Here we are regressing:  \n",
    "Alerts(h,t) = Schools(h) + Stringency(t); where h: hexagon, t: time  \n",
    "Looks like number of schools has a positive coefficient and stringency has a negative coefficient for each h3 resolution. As we expected.  \n",
    "Magnitude of coefficients steadily decrease as resolution increases."
   ]
  },
  {
   "cell_type": "markdown",
   "id": "1ed96ea0",
   "metadata": {},
   "source": [
    "$Alerts_{h,t} = \\alpha + \\beta Schools_h + \\delta Stringency_t + \\varepsilon_{h,t}$"
   ]
  },
  {
   "cell_type": "code",
   "execution_count": 37,
   "id": "713eb0e3",
   "metadata": {
    "scrolled": true
   },
   "outputs": [
    {
     "name": "stdout",
     "output_type": "stream",
     "text": [
      "Hex resolution: 6\n",
      "                            OLS Regression Results                            \n",
      "==============================================================================\n",
      "Dep. Variable:                   uuid   R-squared:                       0.860\n",
      "Model:                            OLS   Adj. R-squared:                  0.860\n",
      "Method:                 Least Squares   F-statistic:                 1.834e+04\n",
      "Date:                Thu, 05 May 2022   Prob (F-statistic):               0.00\n",
      "Time:                        18:05:16   Log-Likelihood:                -30672.\n",
      "No. Observations:                5984   AIC:                         6.135e+04\n",
      "Df Residuals:                    5981   BIC:                         6.137e+04\n",
      "Df Model:                           2                                         \n",
      "Covariance Type:            nonrobust                                         \n",
      "====================================================================================\n",
      "                       coef    std err          t      P>|t|      [0.025      0.975]\n",
      "------------------------------------------------------------------------------------\n",
      "Intercept           44.4199      2.033     21.845      0.000      40.434      48.406\n",
      "Denumire_P           8.4196      0.044    190.370      0.000       8.333       8.506\n",
      "stringency_index    -0.3222      0.035     -9.318      0.000      -0.390      -0.254\n",
      "==============================================================================\n",
      "Omnibus:                     2385.771   Durbin-Watson:                   1.441\n",
      "Prob(Omnibus):                  0.000   Jarque-Bera (JB):            18381.493\n",
      "Skew:                           1.713   Prob(JB):                         0.00\n",
      "Kurtosis:                      10.873   Cond. No.                         226.\n",
      "==============================================================================\n",
      "\n",
      "Notes:\n",
      "[1] Standard Errors assume that the covariance matrix of the errors is correctly specified.\n",
      "Hex resolution: 7\n",
      "                            OLS Regression Results                            \n",
      "==============================================================================\n",
      "Dep. Variable:                   uuid   R-squared:                       0.742\n",
      "Model:                            OLS   Adj. R-squared:                  0.742\n",
      "Method:                 Least Squares   F-statistic:                 2.800e+04\n",
      "Date:                Thu, 05 May 2022   Prob (F-statistic):               0.00\n",
      "Time:                        18:05:16   Log-Likelihood:                -83937.\n",
      "No. Observations:               19424   AIC:                         1.679e+05\n",
      "Df Residuals:                   19421   BIC:                         1.679e+05\n",
      "Df Model:                           2                                         \n",
      "Covariance Type:            nonrobust                                         \n",
      "====================================================================================\n",
      "                       coef    std err          t      P>|t|      [0.025      0.975]\n",
      "------------------------------------------------------------------------------------\n",
      "Intercept           15.6535      0.511     30.618      0.000      14.651      16.656\n",
      "Denumire_P           6.4593      0.027    235.934      0.000       6.406       6.513\n",
      "stringency_index    -0.0938      0.009    -10.557      0.000      -0.111      -0.076\n",
      "==============================================================================\n",
      "Omnibus:                    10822.025   Durbin-Watson:                   1.634\n",
      "Prob(Omnibus):                  0.000   Jarque-Bera (JB):           147155.421\n",
      "Skew:                           2.400   Prob(JB):                         0.00\n",
      "Kurtosis:                      15.601   Cond. No.                         224.\n",
      "==============================================================================\n",
      "\n",
      "Notes:\n",
      "[1] Standard Errors assume that the covariance matrix of the errors is correctly specified.\n",
      "Hex resolution: 8\n",
      "                            OLS Regression Results                            \n",
      "==============================================================================\n",
      "Dep. Variable:                   uuid   R-squared:                       0.505\n",
      "Model:                            OLS   Adj. R-squared:                  0.505\n",
      "Method:                 Least Squares   F-statistic:                 2.572e+04\n",
      "Date:                Thu, 05 May 2022   Prob (F-statistic):               0.00\n",
      "Time:                        18:05:16   Log-Likelihood:            -1.7810e+05\n",
      "No. Observations:               50499   AIC:                         3.562e+05\n",
      "Df Residuals:                   50496   BIC:                         3.562e+05\n",
      "Df Model:                           2                                         \n",
      "Covariance Type:            nonrobust                                         \n",
      "====================================================================================\n",
      "                       coef    std err          t      P>|t|      [0.025      0.975]\n",
      "------------------------------------------------------------------------------------\n",
      "Intercept            6.6900      0.147     45.632      0.000       6.403       6.977\n",
      "Denumire_P           4.2448      0.019    226.224      0.000       4.208       4.282\n",
      "stringency_index    -0.0300      0.003    -11.599      0.000      -0.035      -0.025\n",
      "==============================================================================\n",
      "Omnibus:                    39774.952   Durbin-Watson:                   1.728\n",
      "Prob(Omnibus):                  0.000   Jarque-Bera (JB):          1930824.956\n",
      "Skew:                           3.401   Prob(JB):                         0.00\n",
      "Kurtosis:                      32.519   Cond. No.                         226.\n",
      "==============================================================================\n",
      "\n",
      "Notes:\n",
      "[1] Standard Errors assume that the covariance matrix of the errors is correctly specified.\n",
      "Hex resolution: 9\n",
      "                            OLS Regression Results                            \n",
      "==============================================================================\n",
      "Dep. Variable:                   uuid   R-squared:                       0.151\n",
      "Model:                            OLS   Adj. R-squared:                  0.151\n",
      "Method:                 Least Squares   F-statistic:                     9955.\n",
      "Date:                Thu, 05 May 2022   Prob (F-statistic):               0.00\n",
      "Time:                        18:05:16   Log-Likelihood:            -2.9390e+05\n",
      "No. Observations:              112293   AIC:                         5.878e+05\n",
      "Df Residuals:                  112290   BIC:                         5.878e+05\n",
      "Df Model:                           2                                         \n",
      "Covariance Type:            nonrobust                                         \n",
      "====================================================================================\n",
      "                       coef    std err          t      P>|t|      [0.025      0.975]\n",
      "------------------------------------------------------------------------------------\n",
      "Intercept            3.4152      0.041     84.165      0.000       3.336       3.495\n",
      "Denumire_P           1.4676      0.010    140.203      0.000       1.447       1.488\n",
      "stringency_index    -0.0105      0.001    -14.425      0.000      -0.012      -0.009\n",
      "==============================================================================\n",
      "Omnibus:                    87272.639   Durbin-Watson:                   1.471\n",
      "Prob(Omnibus):                  0.000   Jarque-Bera (JB):          2598312.468\n",
      "Skew:                           3.525   Prob(JB):                         0.00\n",
      "Kurtosis:                      25.486   Cond. No.                         229.\n",
      "==============================================================================\n",
      "\n",
      "Notes:\n",
      "[1] Standard Errors assume that the covariance matrix of the errors is correctly specified.\n",
      "Hex resolution: 10\n",
      "                            OLS Regression Results                            \n",
      "==============================================================================\n",
      "Dep. Variable:                   uuid   R-squared:                       0.071\n",
      "Model:                            OLS   Adj. R-squared:                  0.071\n",
      "Method:                 Least Squares   F-statistic:                     7591.\n",
      "Date:                Thu, 05 May 2022   Prob (F-statistic):               0.00\n",
      "Time:                        18:05:16   Log-Likelihood:            -3.4208e+05\n",
      "No. Observations:              197162   AIC:                         6.842e+05\n",
      "Df Residuals:                  197159   BIC:                         6.842e+05\n",
      "Df Model:                           2                                         \n",
      "Covariance Type:            nonrobust                                         \n",
      "====================================================================================\n",
      "                       coef    std err          t      P>|t|      [0.025      0.975]\n",
      "------------------------------------------------------------------------------------\n",
      "Intercept            1.8935      0.013    146.127      0.000       1.868       1.919\n",
      "Denumire_P           0.5852      0.005    122.451      0.000       0.576       0.595\n",
      "stringency_index    -0.0031      0.000    -13.238      0.000      -0.004      -0.003\n",
      "==============================================================================\n",
      "Omnibus:                   154562.215   Durbin-Watson:                   1.594\n",
      "Prob(Omnibus):                  0.000   Jarque-Bera (JB):          5523785.768\n",
      "Skew:                           3.499   Prob(JB):                         0.00\n",
      "Kurtosis:                      27.968   Cond. No.                         232.\n",
      "==============================================================================\n",
      "\n",
      "Notes:\n",
      "[1] Standard Errors assume that the covariance matrix of the errors is correctly specified.\n"
     ]
    }
   ],
   "source": [
    "betas = []\n",
    "for i in range(len(dfs)):\n",
    "    model = smf.ols(formula='uuid ~ Denumire_P + stringency_index', data=dfs[i]).fit() \n",
    "    #predictions = model.predict(df[['Denumire_P', 'stringency_index']]) \n",
    "    betas.append(model.params)\n",
    "    print_model = model.summary()\n",
    "    print('Hex resolution: ' + str(resolutions[i]))\n",
    "    print(print_model)"
   ]
  },
  {
   "cell_type": "code",
   "execution_count": 38,
   "id": "bfa3247d",
   "metadata": {
    "scrolled": true
   },
   "outputs": [
    {
     "data": {
      "text/plain": [
       "[Intercept           44.419864\n",
       " Denumire_P           8.419563\n",
       " stringency_index    -0.322166\n",
       " dtype: float64,\n",
       " Intercept           15.653547\n",
       " Denumire_P           6.459338\n",
       " stringency_index    -0.093786\n",
       " dtype: float64,\n",
       " Intercept           6.689982\n",
       " Denumire_P          4.244751\n",
       " stringency_index   -0.030037\n",
       " dtype: float64,\n",
       " Intercept           3.415195\n",
       " Denumire_P          1.467580\n",
       " stringency_index   -0.010461\n",
       " dtype: float64,\n",
       " Intercept           1.893546\n",
       " Denumire_P          0.585176\n",
       " stringency_index   -0.003094\n",
       " dtype: float64]"
      ]
     },
     "execution_count": 38,
     "metadata": {},
     "output_type": "execute_result"
    }
   ],
   "source": [
    "betas"
   ]
  }
 ],
 "metadata": {
  "kernelspec": {
   "display_name": "Python 3",
   "language": "python",
   "name": "python3"
  },
  "language_info": {
   "codemirror_mode": {
    "name": "ipython",
    "version": 3
   },
   "file_extension": ".py",
   "mimetype": "text/x-python",
   "name": "python",
   "nbconvert_exporter": "python",
   "pygments_lexer": "ipython3",
   "version": "3.8.8"
  }
 },
 "nbformat": 4,
 "nbformat_minor": 5
}

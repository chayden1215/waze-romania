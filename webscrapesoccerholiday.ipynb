{
 "cells": [
  {
   "cell_type": "code",
   "execution_count": 50,
   "id": "28517416-b8db-4f9d-8cc0-2221928a9533",
   "metadata": {},
   "outputs": [],
   "source": [
    "import requests\n",
    "from bs4 import BeautifulSoup\n",
    "import datetime\n",
    "import pandas as pd"
   ]
  },
  {
   "cell_type": "code",
   "execution_count": 51,
   "id": "c54f1ef5-1108-4dd5-9f31-bc80d300d48f",
   "metadata": {},
   "outputs": [],
   "source": [
    "years = [2020, 2021, 2022]"
   ]
  },
  {
   "cell_type": "markdown",
   "id": "04043782-d367-4f96-8211-5f62b7bb5c3b",
   "metadata": {},
   "source": [
    "Get dates for national holidays and convert to standard date format. Write csv file."
   ]
  },
  {
   "cell_type": "code",
   "execution_count": 80,
   "id": "d8900c04-a865-4737-b846-ae81b966c82f",
   "metadata": {},
   "outputs": [],
   "source": [
    "years = [2020, 2021, 2022]\n",
    "rawholidays = soup.find_all(\"div\", class_ = 'd-md-none')\n",
    "holidays = []\n",
    "for year in years:\n",
    "    URL = 'https://leaveboard.com/public-holidays/romania-public-holidays-'+ str(year) + '/'\n",
    "    page = requests.get(URL)\n",
    "    soup = BeautifulSoup(page.content, \"html.parser\")\n",
    "    rawholidays = soup.find_all(\"div\", class_ = 'd-md-none')\n",
    "    for holiday in rawholidays:\n",
    "        temp = holiday.text[4:]\n",
    "        temp = datetime.datetime.strptime(temp, '%B %d, %Y')\n",
    "        holidays.append(temp)\n",
    "holidays = pd.DataFrame(holidays)\n",
    "holidays.columns= ['date']\n",
    "holidays['IsHoliday'] = 1"
   ]
  },
  {
   "cell_type": "code",
   "execution_count": 83,
   "id": "18bb51e0-c070-4263-828d-78603128e4db",
   "metadata": {},
   "outputs": [],
   "source": [
    "URL = 'https://www.espn.com/soccer/team/results/_/id/5260/season/2021'\n",
    "page = requests.get(URL)\n",
    "soup = BeautifulSoup(page.content, \"html.parser\")"
   ]
  },
  {
   "cell_type": "markdown",
   "id": "c93f40f0-df40-411b-9510-d08aa679e481",
   "metadata": {},
   "source": [
    "Get dates for home soccer games and convert to standard date format."
   ]
  },
  {
   "cell_type": "code",
   "execution_count": 157,
   "id": "4138817c-da40-4e19-9a5b-0f665fa9eb22",
   "metadata": {},
   "outputs": [],
   "source": [
    "cluj = []\n",
    "\n",
    "for year in years:\n",
    "    URL = 'https://www.espn.com/soccer/team/results/_/id/5260/season/' + str(year)\n",
    "    page = requests.get(URL)\n",
    "    soup = BeautifulSoup(page.content, \"html.parser\")\n",
    "    tables = soup.find_all(class_ = \"ResponsiveTable\")\n",
    "    for table in tables:\n",
    "        datesraw = table.find_all(class_ = 'matchTeams')\n",
    "        gamesraw = table.find_all(class_ = 'local flex items-center')\n",
    "        year  = table.find_all(class_ = 'Table__Title')[0].text[-4:]\n",
    "        for i in range(len(gamesraw)):\n",
    "            if gamesraw[i].text == 'CFR Cluj-Napoca':\n",
    "                temp = datesraw[i].text[5:] +', ' + year\n",
    "                temp = datetime.datetime.strptime(temp, '%b %d, %Y')\n",
    "                cluj.append(temp)\n",
    "   \n",
    "\n",
    "univ = []\n",
    "\n",
    "for year in years:\n",
    "    URL = 'https://www.espn.com/soccer/team/results/_/id/8089/season/' + str(year)\n",
    "    page = requests.get(URL)\n",
    "    soup = BeautifulSoup(page.content, \"html.parser\")\n",
    "    tables = soup.find_all(class_ = \"ResponsiveTable\")\n",
    "    for table in tables:\n",
    "        datesraw = table.find_all(class_ = 'matchTeams')\n",
    "        gamesraw = table.find_all(class_ = 'local flex items-center')\n",
    "        year  = table.find_all(class_ = 'Table__Title')[0].text[-4:]\n",
    "        for i in range(len(gamesraw)):\n",
    "            if gamesraw[i].text == 'Universitatea Craiova':\n",
    "                temp = datesraw[i].text[5:] +', ' + year\n",
    "                temp = datetime.datetime.strptime(temp, '%b %d, %Y')\n",
    "                univ.append(temp)\n",
    "\n",
    "cluj = pd.DataFrame(cluj)\n",
    "cluj.columns= ['date']\n",
    "cluj['IsHomeGame_CFR'] = 1\n",
    "\n",
    "univ = pd.DataFrame(univ)\n",
    "univ.columns= ['date']\n",
    "univ['IsHomeGame_Univ'] = 1\n",
    "\n",
    "soccer = pd.merge(cluj, univ, how = 'outer')\n",
    "soccer = soccer.fillna(0)"
   ]
  }
 ],
 "metadata": {
  "kernelspec": {
   "display_name": "Python 3 (ipykernel)",
   "language": "python",
   "name": "python3"
  },
  "language_info": {
   "codemirror_mode": {
    "name": "ipython",
    "version": 3
   },
   "file_extension": ".py",
   "mimetype": "text/x-python",
   "name": "python",
   "nbconvert_exporter": "python",
   "pygments_lexer": "ipython3",
   "version": "3.9.7"
  }
 },
 "nbformat": 4,
 "nbformat_minor": 5
}
